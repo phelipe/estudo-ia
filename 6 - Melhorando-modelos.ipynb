{
 "cells": [
  {
   "cell_type": "markdown",
   "metadata": {},
   "source": [
    "# Melhorando Modelos\n",
    "\n",
    "A função fit! instiga uma pesquisa por hiperparâmetros ideais do modelo, dentro de um intervalo especificado e, em seguida, usa todos os dados fornecidos para treinar o melhor modelo. Para prever o uso do modelo ideal, basta chamar __predict(mach, Xnew)__. \n",
    "\n",
    "Porém, podemos querer modificar parâmetros desta otimização de parâmetros, para isso fazemos uso do __TunedModel__."
   ]
  },
  {
   "cell_type": "code",
   "execution_count": 15,
   "metadata": {},
   "outputs": [],
   "source": [
    "using Queryverse\n",
    "using MLJ\n",
    "using PrettyPrinting"
   ]
  },
  {
   "cell_type": "markdown",
   "metadata": {},
   "source": [
    "carregarei alguns dados para uso"
   ]
  },
  {
   "cell_type": "code",
   "execution_count": 3,
   "metadata": {},
   "outputs": [],
   "source": [
    "X = MLJ.table(rand(100, 10));\n",
    "y = 2X.x1 - X.x2 + 0.05*rand(100);"
   ]
  },
  {
   "cell_type": "code",
   "execution_count": 4,
   "metadata": {},
   "outputs": [],
   "source": [
    " @load DecisionTreeRegressor;"
   ]
  },
  {
   "cell_type": "code",
   "execution_count": 6,
   "metadata": {},
   "outputs": [
    {
     "data": {
      "text/plain": [
       "DecisionTreeRegressor(\n",
       "    max_depth = -1,\n",
       "    min_samples_leaf = 5,\n",
       "    min_samples_split = 2,\n",
       "    min_purity_increase = 0.0,\n",
       "    n_subfeatures = 0,\n",
       "    post_prune = false,\n",
       "    merge_purity_threshold = 1.0)\u001b[34m @ 1…35\u001b[39m"
      ]
     },
     "execution_count": 6,
     "metadata": {},
     "output_type": "execute_result"
    }
   ],
   "source": [
    " tree_model =DecisionTreeRegressor()"
   ]
  },
  {
   "cell_type": "markdown",
   "metadata": {},
   "source": [
    "Vemos os parêmetros da nossa árvore de decisão, vamos agora fazer uma modificação do nosso parâmetro _min_purity_increase_.\n",
    "Vamos fazer isso"
   ]
  },
  {
   "cell_type": "markdown",
   "metadata": {},
   "source": [
    "# Referência aqui\n",
    "\n",
    "https://alan-turing-institute.github.io/MLJ.jl/stable/tuning_models/"
   ]
  },
  {
   "cell_type": "code",
   "execution_count": null,
   "metadata": {},
   "outputs": [],
   "source": []
  }
 ],
 "metadata": {
  "kernelspec": {
   "display_name": "Julia IA 1.4.0",
   "language": "julia",
   "name": "julia-ia-1.4"
  },
  "language_info": {
   "file_extension": ".jl",
   "mimetype": "application/julia",
   "name": "julia",
   "version": "1.4.1"
  }
 },
 "nbformat": 4,
 "nbformat_minor": 4
}
