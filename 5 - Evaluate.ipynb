{
 "cells": [
  {
   "cell_type": "markdown",
   "metadata": {},
   "source": [
    "# Evaluate\n",
    "\n",
    "Aqui começaremos a fazer uso da função evaluate para fazer uma análise do desempenho de um modelo para diferentes medidas de desempenho, isso pode ajudar na escolha inicial de qual modelo utilizar."
   ]
  },
  {
   "cell_type": "code",
   "execution_count": 1,
   "metadata": {},
   "outputs": [],
   "source": [
    "using Queryverse\n",
    "using MLJ"
   ]
  },
  {
   "cell_type": "code",
   "execution_count": 2,
   "metadata": {},
   "outputs": [
    {
     "data": {
      "text/plain": [
       "RidgeRegressor(\n",
       "    lambda = 1.0)\u001b[34m @ 1…72\u001b[39m"
      ]
     },
     "execution_count": 2,
     "metadata": {},
     "output_type": "execute_result"
    }
   ],
   "source": [
    "@load RidgeRegressor pkg=MultivariateStats"
   ]
  },
  {
   "cell_type": "code",
   "execution_count": 3,
   "metadata": {},
   "outputs": [
    {
     "data": {
      "text/plain": [
       "RidgeRegressor(\n",
       "    lambda = 1.0)\u001b[34m @ 7…31\u001b[39m"
      ]
     },
     "execution_count": 3,
     "metadata": {},
     "output_type": "execute_result"
    }
   ],
   "source": [
    "model = RidgeRegressor()"
   ]
  },
  {
   "cell_type": "code",
   "execution_count": 4,
   "metadata": {},
   "outputs": [
    {
     "data": {
      "text/plain": [
       "\u001b[34mMachine{RidgeRegressor} @ 1…06\u001b[39m\n"
      ]
     },
     "execution_count": 4,
     "metadata": {},
     "output_type": "execute_result"
    }
   ],
   "source": [
    "X = (a=rand(12), b=rand(12), c=rand(12));\n",
    "y = X.a + 2X.b + 0.05*rand(12);\n",
    "mach = machine(model, X, y)"
   ]
  },
  {
   "cell_type": "markdown",
   "metadata": {},
   "source": [
    "Vamos por exemplo analisar o desempenho desse modelo para diferentes medidas  de desempenho que sejam de interesse, aqui usarei o evaluate para isso."
   ]
  },
  {
   "cell_type": "code",
   "execution_count": 5,
   "metadata": {},
   "outputs": [
    {
     "name": "stderr",
     "output_type": "stream",
     "text": [
      "\u001b[33mEvaluating over 6 folds: 100%[=========================] Time: 0:00:06\u001b[39m\n"
     ]
    },
    {
     "data": {
      "text/plain": [
       "┌\u001b[0m───────────\u001b[0m┬\u001b[0m───────────────\u001b[0m┬\u001b[0m───────────────────────────────────────────────\u001b[0m┐\u001b[0m\n",
       "│\u001b[0m\u001b[22m _.measure \u001b[0m│\u001b[0m\u001b[22m _.measurement \u001b[0m│\u001b[0m\u001b[22m _.per_fold                                    \u001b[0m│\u001b[0m\n",
       "├\u001b[0m───────────\u001b[0m┼\u001b[0m───────────────\u001b[0m┼\u001b[0m───────────────────────────────────────────────\u001b[0m┤\u001b[0m\n",
       "│\u001b[0m mae       \u001b[0m│\u001b[0m 0.293         \u001b[0m│\u001b[0m [0.317, 0.226, 0.023, 0.173, 0.716, 0.302]    \u001b[0m│\u001b[0m\n",
       "│\u001b[0m rmslp1    \u001b[0m│\u001b[0m 0.147         \u001b[0m│\u001b[0m [0.118, 0.106, 0.00916, 0.0849, 0.268, 0.158] \u001b[0m│\u001b[0m\n",
       "│\u001b[0m rms       \u001b[0m│\u001b[0m 0.426         \u001b[0m│\u001b[0m [0.317, 0.27, 0.0248, 0.214, 0.853, 0.377]    \u001b[0m│\u001b[0m\n",
       "└\u001b[0m───────────\u001b[0m┴\u001b[0m───────────────\u001b[0m┴\u001b[0m───────────────────────────────────────────────\u001b[0m┘\u001b[0m\n",
       "_.per_observation = [missing, missing, missing]\n"
      ]
     },
     "execution_count": 5,
     "metadata": {},
     "output_type": "execute_result"
    }
   ],
   "source": [
    "evaluate!(mach, measure=[mae, rmslp1 , rms])"
   ]
  },
  {
   "cell_type": "markdown",
   "metadata": {},
   "source": [
    "Posso modificar o método de reamostrar os dados entre teste e treino."
   ]
  },
  {
   "cell_type": "code",
   "execution_count": 14,
   "metadata": {},
   "outputs": [
    {
     "data": {
      "text/plain": [
       "┌\u001b[0m───────────\u001b[0m┬\u001b[0m───────────────\u001b[0m┬\u001b[0m───────────────────────────────────────────────\u001b[0m┐\u001b[0m\n",
       "│\u001b[0m\u001b[22m _.measure \u001b[0m│\u001b[0m\u001b[22m _.measurement \u001b[0m│\u001b[0m\u001b[22m _.per_fold                                    \u001b[0m│\u001b[0m\n",
       "├\u001b[0m───────────\u001b[0m┼\u001b[0m───────────────\u001b[0m┼\u001b[0m───────────────────────────────────────────────\u001b[0m┤\u001b[0m\n",
       "│\u001b[0m mae       \u001b[0m│\u001b[0m 0.283         \u001b[0m│\u001b[0m [0.226, 0.441, 0.0639, 0.0502, 0.17, 0.748]   \u001b[0m│\u001b[0m\n",
       "│\u001b[0m rmslp1    \u001b[0m│\u001b[0m 0.145         \u001b[0m│\u001b[0m [0.106, 0.186, 0.0301, 0.0189, 0.0762, 0.272] \u001b[0m│\u001b[0m\n",
       "│\u001b[0m rms       \u001b[0m│\u001b[0m 0.421         \u001b[0m│\u001b[0m [0.27, 0.45, 0.0852, 0.051, 0.219, 0.854]     \u001b[0m│\u001b[0m\n",
       "└\u001b[0m───────────\u001b[0m┴\u001b[0m───────────────\u001b[0m┴\u001b[0m───────────────────────────────────────────────\u001b[0m┘\u001b[0m\n",
       "_.per_observation = [missing, missing, missing]\n"
      ]
     },
     "execution_count": 14,
     "metadata": {},
     "output_type": "execute_result"
    }
   ],
   "source": [
    "evaluate!(mach, resampling = CV( shuffle = true),\n",
    "    measure=[mae, rmslp1 , rms], verbosity=0)"
   ]
  },
  {
   "cell_type": "code",
   "execution_count": 7,
   "metadata": {},
   "outputs": [
    {
     "data": {
      "text/plain": [
       "┌\u001b[0m───────────\u001b[0m┬\u001b[0m───────────────\u001b[0m┬\u001b[0m────────────\u001b[0m┐\u001b[0m\n",
       "│\u001b[0m\u001b[22m _.measure \u001b[0m│\u001b[0m\u001b[22m _.measurement \u001b[0m│\u001b[0m\u001b[22m _.per_fold \u001b[0m│\u001b[0m\n",
       "├\u001b[0m───────────\u001b[0m┼\u001b[0m───────────────\u001b[0m┼\u001b[0m────────────\u001b[0m┤\u001b[0m\n",
       "│\u001b[0m mae       \u001b[0m│\u001b[0m 0.415         \u001b[0m│\u001b[0m [0.415]    \u001b[0m│\u001b[0m\n",
       "│\u001b[0m rmslp1    \u001b[0m│\u001b[0m 0.194         \u001b[0m│\u001b[0m [0.194]    \u001b[0m│\u001b[0m\n",
       "│\u001b[0m rms       \u001b[0m│\u001b[0m 0.61          \u001b[0m│\u001b[0m [0.61]     \u001b[0m│\u001b[0m\n",
       "└\u001b[0m───────────\u001b[0m┴\u001b[0m───────────────\u001b[0m┴\u001b[0m────────────\u001b[0m┘\u001b[0m\n",
       "_.per_observation = [missing, missing, missing]\n"
      ]
     },
     "execution_count": 7,
     "metadata": {},
     "output_type": "execute_result"
    }
   ],
   "source": [
    "evaluate!(mach, resampling = Holdout( shuffle = true),\n",
    "    measure = [mae, rmslp1 , rms], verbosity=0)"
   ]
  },
  {
   "cell_type": "markdown",
   "metadata": {},
   "source": [
    "Algumas das formas de fazer a reamostragem são:\n",
    "  - Holdout (Estratégia de reamostragem de holdout)\n",
    "  - CV (Estratégia de reamostragem de validação cruzada)\n",
    "  - StratifiedCV (Estratégia estratificada de reamostragem de validação cruzada\n",
    ")\n",
    "\n",
    "\n",
    "Mais detalhes em: https://alan-turing-institute.github.io/MLJ.jl/stable/evaluating_model_performance/#Custom-resampling-strategies-1\n",
    "\n",
    "\n",
    "A grande utilidade disso é fazer evaluate de diversos modelos diferentes e comparar as medidas para escolher qual seria um bom para ser aprofundado para melhorar o desempenho. Outra vantagem é que o evaluate já treina a machine e pode ser usada para predição posterior."
   ]
  },
  {
   "cell_type": "code",
   "execution_count": 20,
   "metadata": {},
   "outputs": [
    {
     "data": {
      "text/plain": [
       "0.25084491288931204"
      ]
     },
     "execution_count": 20,
     "metadata": {},
     "output_type": "execute_result"
    }
   ],
   "source": [
    "mae(predict(mach, X), y)"
   ]
  },
  {
   "cell_type": "code",
   "execution_count": null,
   "metadata": {},
   "outputs": [],
   "source": []
  },
  {
   "cell_type": "code",
   "execution_count": null,
   "metadata": {},
   "outputs": [],
   "source": []
  }
 ],
 "metadata": {
  "kernelspec": {
   "display_name": "Julia IA 1.4.0",
   "language": "julia",
   "name": "julia-ia-1.4"
  },
  "language_info": {
   "file_extension": ".jl",
   "mimetype": "application/julia",
   "name": "julia",
   "version": "1.4.1"
  }
 },
 "nbformat": 4,
 "nbformat_minor": 4
}
