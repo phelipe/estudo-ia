{
 "cells": [
  {
   "cell_type": "markdown",
   "metadata": {},
   "source": [
    "# Machines\n",
    "Neste notebook vamos mostrar alguns detalhes da struct machine."
   ]
  },
  {
   "cell_type": "code",
   "execution_count": 1,
   "metadata": {},
   "outputs": [],
   "source": [
    "using Queryverse\n",
    "using MLJ"
   ]
  },
  {
   "cell_type": "markdown",
   "metadata": {},
   "source": [
    "vamos começar carregando um modelo e criando uma machine para guardar este bem como os dados."
   ]
  },
  {
   "cell_type": "code",
   "execution_count": 3,
   "metadata": {},
   "outputs": [
    {
     "data": {
      "text/plain": [
       "DecisionTreeClassifier(\n",
       "    max_depth = -1,\n",
       "    min_samples_leaf = 1,\n",
       "    min_samples_split = 2,\n",
       "    min_purity_increase = 0.0,\n",
       "    n_subfeatures = 0,\n",
       "    post_prune = false,\n",
       "    merge_purity_threshold = 1.0,\n",
       "    pdf_smoothing = 0.0,\n",
       "    display_depth = 5)\u001b[34m @ 1…65\u001b[39m"
      ]
     },
     "execution_count": 3,
     "metadata": {},
     "output_type": "execute_result"
    }
   ],
   "source": [
    "@load DecisionTreeClassifier;"
   ]
  },
  {
   "cell_type": "code",
   "execution_count": 6,
   "metadata": {},
   "outputs": [
    {
     "name": "stderr",
     "output_type": "stream",
     "text": [
      "┌ Info: Training \u001b[34mMachine{DecisionTreeClassifier} @ 1…87\u001b[39m.\n",
      "└ @ MLJBase /home/phelipe/.julia/packages/MLJBase/qJs1o/src/machines.jl:182\n"
     ]
    },
    {
     "data": {
      "text/plain": [
       "\u001b[34mMachine{DecisionTreeClassifier} @ 1…87\u001b[39m\n"
      ]
     },
     "execution_count": 6,
     "metadata": {},
     "output_type": "execute_result"
    }
   ],
   "source": [
    "forest = DecisionTreeClassifier()\n",
    "x, y = @load_iris;\n",
    "mach = machine(forest, x, y)\n",
    "fit!(mach)"
   ]
  },
  {
   "cell_type": "markdown",
   "metadata": {},
   "source": [
    "Geralmente, a alteração de um hiperparâmetro ativa o treinamento nas chamadas para o ajuste subsequente!"
   ]
  },
  {
   "cell_type": "code",
   "execution_count": 10,
   "metadata": {},
   "outputs": [
    {
     "data": {
      "text/plain": [
       "3"
      ]
     },
     "execution_count": 10,
     "metadata": {},
     "output_type": "execute_result"
    }
   ],
   "source": [
    "forest.min_samples_split = 3"
   ]
  },
  {
   "cell_type": "code",
   "execution_count": 11,
   "metadata": {},
   "outputs": [
    {
     "name": "stderr",
     "output_type": "stream",
     "text": [
      "┌ Info: Updating \u001b[34mMachine{DecisionTreeClassifier} @ 1…87\u001b[39m.\n",
      "└ @ MLJBase /home/phelipe/.julia/packages/MLJBase/qJs1o/src/machines.jl:195\n"
     ]
    },
    {
     "data": {
      "text/plain": [
       "\u001b[34mMachine{DecisionTreeClassifier} @ 1…87\u001b[39m\n"
      ]
     },
     "execution_count": 11,
     "metadata": {},
     "output_type": "execute_result"
    }
   ],
   "source": [
    "fit!(mach)"
   ]
  },
  {
   "cell_type": "markdown",
   "metadata": {},
   "source": [
    "Chamar fit! novamente sem fazer alterações  não fará o treino novamente.\n"
   ]
  },
  {
   "cell_type": "code",
   "execution_count": 12,
   "metadata": {},
   "outputs": [
    {
     "name": "stderr",
     "output_type": "stream",
     "text": [
      "┌ Info: Not retraining \u001b[34mMachine{DecisionTreeClassifier} @ 1…87\u001b[39m.\n",
      "│  It appears up-to-date. Use `force=true` to force retraining.\n",
      "└ @ MLJBase /home/phelipe/.julia/packages/MLJBase/qJs1o/src/machines.jl:189\n"
     ]
    },
    {
     "data": {
      "text/plain": [
       "\u001b[34mMachine{DecisionTreeClassifier} @ 1…87\u001b[39m\n"
      ]
     },
     "execution_count": 12,
     "metadata": {},
     "output_type": "execute_result"
    }
   ],
   "source": [
    "fit!(mach)"
   ]
  },
  {
   "cell_type": "markdown",
   "metadata": {},
   "source": [
    "Porém podemos forçar um retreino."
   ]
  },
  {
   "cell_type": "code",
   "execution_count": 13,
   "metadata": {},
   "outputs": [
    {
     "name": "stderr",
     "output_type": "stream",
     "text": [
      "┌ Info: Training \u001b[34mMachine{DecisionTreeClassifier} @ 1…87\u001b[39m.\n",
      "└ @ MLJBase /home/phelipe/.julia/packages/MLJBase/qJs1o/src/machines.jl:182\n"
     ]
    }
   ],
   "source": [
    "fit!(mach, force=true);"
   ]
  },
  {
   "cell_type": "markdown",
   "metadata": {},
   "source": [
    "## Inspecionando Machines\n",
    "\n",
    "Existem dois métodos para inspecionar os resultados de um treinamento com o MLJ. Para obter uma tupla descrevendo os parêmetros aprendidos usamos __fitted_params(mach)__. Todos os outros resultados relacionados ao treinamento são inspecionados com __report(mach)__."
   ]
  },
  {
   "cell_type": "code",
   "execution_count": 14,
   "metadata": {},
   "outputs": [
    {
     "data": {
      "text/plain": [
       "(tree = Decision Tree\n",
       "Leaves: 9\n",
       "Depth:  5,\n",
       " encoding = Dict{CategoricalString{UInt32},UInt32}(\"virginica\" => 0x00000003,\"setosa\" => 0x00000001,\"versicolor\" => 0x00000002),)"
      ]
     },
     "execution_count": 14,
     "metadata": {},
     "output_type": "execute_result"
    }
   ],
   "source": [
    "fitted_params(mach)"
   ]
  },
  {
   "cell_type": "code",
   "execution_count": 15,
   "metadata": {},
   "outputs": [
    {
     "data": {
      "text/plain": [
       "(classes_seen = CategoricalString{UInt32}[\"setosa\", \"versicolor\", \"virginica\"],\n",
       " print_tree = TreePrinter object (call with display depth),)"
      ]
     },
     "execution_count": 15,
     "metadata": {},
     "output_type": "execute_result"
    }
   ],
   "source": [
    "report(mach)"
   ]
  },
  {
   "cell_type": "markdown",
   "metadata": {},
   "source": [
    "pela saída do report podemos pegar as informações do nosso modelo, por exemplo, nesse caso podemos desenhar a árvore de decisão."
   ]
  },
  {
   "cell_type": "code",
   "execution_count": 16,
   "metadata": {},
   "outputs": [
    {
     "name": "stdout",
     "output_type": "stream",
     "text": [
      "Feature 3, Threshold 2.45\n",
      "L-> 1 : 50/50\n",
      "R-> Feature 4, Threshold 1.75\n",
      "    L-> Feature 3, Threshold 4.95\n",
      "        L-> Feature 4, Threshold 1.65\n",
      "            L-> 2 : 47/47\n",
      "            R-> 3 : 1/1\n",
      "        R-> Feature 4, Threshold 1.55\n",
      "            L-> 3 : 3/3\n",
      "            R-> Feature 3, Threshold 5.449999999999999\n",
      "                L-> 2 : 2/2\n",
      "                R-> 3 : 1/1\n",
      "    R-> Feature 3, Threshold 4.85\n",
      "        L-> Feature 1, Threshold 5.95\n",
      "            L-> 2 : 1/1\n",
      "            R-> 3 : 2/2\n",
      "        R-> 3 : 43/43\n"
     ]
    }
   ],
   "source": [
    "report(mach).print_tree()"
   ]
  },
  {
   "cell_type": "markdown",
   "metadata": {},
   "source": [
    "### Salvando uma machine\n",
    "\n",
    "Para salvar uma machine em um arquivo podemos fazer uso da função __MLJ.save__."
   ]
  },
  {
   "cell_type": "code",
   "execution_count": 17,
   "metadata": {},
   "outputs": [],
   "source": [
    "MLJ.save(\"minha_machine.jlso\", mach)"
   ]
  },
  {
   "cell_type": "markdown",
   "metadata": {},
   "source": [
    "Para carregar podemos fazer uso da própria função __machine__."
   ]
  },
  {
   "cell_type": "code",
   "execution_count": 34,
   "metadata": {},
   "outputs": [
    {
     "data": {
      "text/plain": [
       "3-element Array{UnivariateFinite{String,UInt32,Float64},1}:\n",
       " UnivariateFinite(setosa=>1.0, versicolor=>0.0, virginica=>0.0)\n",
       " UnivariateFinite(setosa=>1.0, versicolor=>0.0, virginica=>0.0)\n",
       " UnivariateFinite(setosa=>1.0, versicolor=>0.0, virginica=>0.0)"
      ]
     },
     "execution_count": 34,
     "metadata": {},
     "output_type": "execute_result"
    }
   ],
   "source": [
    "x_new = x |> DataFrame\n",
    "x_new = x_new[1:3, :]\n",
    "mach2 = machine(\"minha_machine.jlso\")\n",
    "predict(mach2, x_new)"
   ]
  },
  {
   "cell_type": "markdown",
   "metadata": {},
   "source": [
    "Uma observação importante é que a machine carregada não pode ser treinada novamente, a menos que seja montada uma machine com os dados, por exemplo:"
   ]
  },
  {
   "cell_type": "code",
   "execution_count": 36,
   "metadata": {},
   "outputs": [
    {
     "name": "stderr",
     "output_type": "stream",
     "text": [
      "┌ Info: Training \u001b[34mMachine{DecisionTreeClassifier} @ 6…98\u001b[39m.\n",
      "└ @ MLJBase /home/phelipe/.julia/packages/MLJBase/qJs1o/src/machines.jl:182\n"
     ]
    },
    {
     "data": {
      "text/plain": [
       "\u001b[34mMachine{DecisionTreeClassifier} @ 6…98\u001b[39m\n"
      ]
     },
     "execution_count": 36,
     "metadata": {},
     "output_type": "execute_result"
    }
   ],
   "source": [
    "mach3 = machine(\"minha_machine.jlso\", x, y)\n",
    "fit!(mach3)"
   ]
  }
 ],
 "metadata": {
  "kernelspec": {
   "display_name": "Julia IA 1.4.0",
   "language": "julia",
   "name": "julia-ia-1.4"
  },
  "language_info": {
   "file_extension": ".jl",
   "mimetype": "application/julia",
   "name": "julia",
   "version": "1.4.1"
  }
 },
 "nbformat": 4,
 "nbformat_minor": 4
}
