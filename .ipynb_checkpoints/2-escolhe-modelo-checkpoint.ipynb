{
 "cells": [
  {
   "cell_type": "code",
   "execution_count": 2,
   "metadata": {},
   "outputs": [],
   "source": [
    "using Queryverse, MLJ"
   ]
  },
  {
   "cell_type": "code",
   "execution_count": 5,
   "metadata": {},
   "outputs": [
    {
     "data": {
      "text/html": [
       "<table class=\"data-frame\"><thead><tr><th></th><th>sepal.length</th><th>sepal.width</th><th>petal.length</th><th>petal.width</th><th>variety</th></tr><tr><th></th><th>Float64</th><th>Float64</th><th>Float64</th><th>Float64</th><th>String</th></tr></thead><tbody><p>6 rows × 5 columns</p><tr><th>1</th><td>5.1</td><td>3.5</td><td>1.4</td><td>0.2</td><td>Setosa</td></tr><tr><th>2</th><td>4.9</td><td>3.0</td><td>1.4</td><td>0.2</td><td>Setosa</td></tr><tr><th>3</th><td>4.7</td><td>3.2</td><td>1.3</td><td>0.2</td><td>Setosa</td></tr><tr><th>4</th><td>4.6</td><td>3.1</td><td>1.5</td><td>0.2</td><td>Setosa</td></tr><tr><th>5</th><td>5.0</td><td>3.6</td><td>1.4</td><td>0.2</td><td>Setosa</td></tr><tr><th>6</th><td>5.4</td><td>3.9</td><td>1.7</td><td>0.4</td><td>Setosa</td></tr></tbody></table>"
      ],
      "text/latex": [
       "\\begin{tabular}{r|ccccc}\n",
       "\t& sepal.length & sepal.width & petal.length & petal.width & variety\\\\\n",
       "\t\\hline\n",
       "\t& Float64 & Float64 & Float64 & Float64 & String\\\\\n",
       "\t\\hline\n",
       "\t1 & 5.1 & 3.5 & 1.4 & 0.2 & Setosa \\\\\n",
       "\t2 & 4.9 & 3.0 & 1.4 & 0.2 & Setosa \\\\\n",
       "\t3 & 4.7 & 3.2 & 1.3 & 0.2 & Setosa \\\\\n",
       "\t4 & 4.6 & 3.1 & 1.5 & 0.2 & Setosa \\\\\n",
       "\t5 & 5.0 & 3.6 & 1.4 & 0.2 & Setosa \\\\\n",
       "\t6 & 5.4 & 3.9 & 1.7 & 0.4 & Setosa \\\\\n",
       "\\end{tabular}\n"
      ],
      "text/plain": [
       "6×5 DataFrame\n",
       "│ Row │ sepal.length │ sepal.width │ petal.length │ petal.width │ variety │\n",
       "│     │ \u001b[90mFloat64\u001b[39m      │ \u001b[90mFloat64\u001b[39m     │ \u001b[90mFloat64\u001b[39m      │ \u001b[90mFloat64\u001b[39m     │ \u001b[90mString\u001b[39m  │\n",
       "├─────┼──────────────┼─────────────┼──────────────┼─────────────┼─────────┤\n",
       "│ 1   │ 5.1          │ 3.5         │ 1.4          │ 0.2         │ Setosa  │\n",
       "│ 2   │ 4.9          │ 3.0         │ 1.4          │ 0.2         │ Setosa  │\n",
       "│ 3   │ 4.7          │ 3.2         │ 1.3          │ 0.2         │ Setosa  │\n",
       "│ 4   │ 4.6          │ 3.1         │ 1.5          │ 0.2         │ Setosa  │\n",
       "│ 5   │ 5.0          │ 3.6         │ 1.4          │ 0.2         │ Setosa  │\n",
       "│ 6   │ 5.4          │ 3.9         │ 1.7          │ 0.4         │ Setosa  │"
      ]
     },
     "execution_count": 5,
     "metadata": {},
     "output_type": "execute_result"
    }
   ],
   "source": [
    "dados = Queryverse.load(\"iris.csv\") |> DataFrame\n",
    "first(dados,6)"
   ]
  },
  {
   "cell_type": "code",
   "execution_count": 8,
   "metadata": {},
   "outputs": [
    {
     "data": {
      "text/html": [
       "<table class=\"data-frame\"><thead><tr><th></th><th>sepal.length</th><th>sepal.width</th><th>petal.length</th><th>petal.width</th><th>variety</th></tr><tr><th></th><th>Float64</th><th>Float64</th><th>Float64</th><th>Float64</th><th>Categorical…</th></tr></thead><tbody><p>6 rows × 5 columns</p><tr><th>1</th><td>5.1</td><td>3.5</td><td>1.4</td><td>0.2</td><td>Setosa</td></tr><tr><th>2</th><td>4.9</td><td>3.0</td><td>1.4</td><td>0.2</td><td>Setosa</td></tr><tr><th>3</th><td>4.7</td><td>3.2</td><td>1.3</td><td>0.2</td><td>Setosa</td></tr><tr><th>4</th><td>4.6</td><td>3.1</td><td>1.5</td><td>0.2</td><td>Setosa</td></tr><tr><th>5</th><td>5.0</td><td>3.6</td><td>1.4</td><td>0.2</td><td>Setosa</td></tr><tr><th>6</th><td>5.4</td><td>3.9</td><td>1.7</td><td>0.4</td><td>Setosa</td></tr></tbody></table>"
      ],
      "text/latex": [
       "\\begin{tabular}{r|ccccc}\n",
       "\t& sepal.length & sepal.width & petal.length & petal.width & variety\\\\\n",
       "\t\\hline\n",
       "\t& Float64 & Float64 & Float64 & Float64 & Categorical…\\\\\n",
       "\t\\hline\n",
       "\t1 & 5.1 & 3.5 & 1.4 & 0.2 & Setosa \\\\\n",
       "\t2 & 4.9 & 3.0 & 1.4 & 0.2 & Setosa \\\\\n",
       "\t3 & 4.7 & 3.2 & 1.3 & 0.2 & Setosa \\\\\n",
       "\t4 & 4.6 & 3.1 & 1.5 & 0.2 & Setosa \\\\\n",
       "\t5 & 5.0 & 3.6 & 1.4 & 0.2 & Setosa \\\\\n",
       "\t6 & 5.4 & 3.9 & 1.7 & 0.4 & Setosa \\\\\n",
       "\\end{tabular}\n"
      ],
      "text/plain": [
       "6×5 DataFrame\n",
       "│ Row │ sepal.length │ sepal.width │ petal.length │ petal.width │ variety      │\n",
       "│     │ \u001b[90mFloat64\u001b[39m      │ \u001b[90mFloat64\u001b[39m     │ \u001b[90mFloat64\u001b[39m      │ \u001b[90mFloat64\u001b[39m     │ \u001b[90mCategorical…\u001b[39m │\n",
       "├─────┼──────────────┼─────────────┼──────────────┼─────────────┼──────────────┤\n",
       "│ 1   │ 5.1          │ 3.5         │ 1.4          │ 0.2         │ Setosa       │\n",
       "│ 2   │ 4.9          │ 3.0         │ 1.4          │ 0.2         │ Setosa       │\n",
       "│ 3   │ 4.7          │ 3.2         │ 1.3          │ 0.2         │ Setosa       │\n",
       "│ 4   │ 4.6          │ 3.1         │ 1.5          │ 0.2         │ Setosa       │\n",
       "│ 5   │ 5.0          │ 3.6         │ 1.4          │ 0.2         │ Setosa       │\n",
       "│ 6   │ 5.4          │ 3.9         │ 1.7          │ 0.4         │ Setosa       │"
      ]
     },
     "execution_count": 8,
     "metadata": {},
     "output_type": "execute_result"
    }
   ],
   "source": [
    "coerce!(dados, autotype(dados))\n",
    "first(dados,6)"
   ]
  },
  {
   "cell_type": "code",
   "execution_count": null,
   "metadata": {},
   "outputs": [],
   "source": []
  }
 ],
 "metadata": {
  "@webio": {
   "lastCommId": null,
   "lastKernelId": null
  },
  "kernelspec": {
   "display_name": "Julia IA 1.4.0",
   "language": "julia",
   "name": "julia-ia-1.4"
  },
  "language_info": {
   "file_extension": ".jl",
   "mimetype": "application/julia",
   "name": "julia",
   "version": "1.4.0"
  }
 },
 "nbformat": 4,
 "nbformat_minor": 4
}
